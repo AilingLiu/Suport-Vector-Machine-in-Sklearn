{
  "nbformat": 4,
  "nbformat_minor": 0,
  "metadata": {
    "colab": {
      "name": "Support_Vector_Machines",
      "provenance": [],
      "collapsed_sections": [],
      "toc_visible": true,
      "include_colab_link": true
    },
    "kernelspec": {
      "name": "python3",
      "display_name": "Python 3"
    }
  },
  "cells": [
    {
      "cell_type": "markdown",
      "metadata": {
        "id": "view-in-github",
        "colab_type": "text"
      },
      "source": [
        "<a href=\"https://colab.research.google.com/github/AilingLiu/Suport-Vector-Machine-in-Sklearn/blob/master/Support_Vector_Machines.ipynb\" target=\"_parent\"><img src=\"https://colab.research.google.com/assets/colab-badge.svg\" alt=\"Open In Colab\"/></a>"
      ]
    },
    {
      "cell_type": "code",
      "metadata": {
        "id": "DeDAFKqsXEgV",
        "colab_type": "code",
        "colab": {}
      },
      "source": [
        ""
      ],
      "execution_count": 0,
      "outputs": []
    },
    {
      "cell_type": "markdown",
      "metadata": {
        "id": "4z7hTL5JXGy6",
        "colab_type": "text"
      },
      "source": [
        "Follow the tutorial of O'Reilly **Hands-on Machine Learning with scikit-learn, keras, and tesorflow**, chapter 5"
      ]
    },
    {
      "cell_type": "markdown",
      "metadata": {
        "id": "r2YvdN_PXTqk",
        "colab_type": "text"
      },
      "source": [
        "# Set up"
      ]
    },
    {
      "cell_type": "code",
      "metadata": {
        "id": "sEIpjC1rXQ_h",
        "colab_type": "code",
        "colab": {}
      },
      "source": [
        "import sys\n",
        "assert(sys.version_info >= (3,5))\n",
        "import sklearn\n",
        "assert(sklearn.__version__ >= '0.20')\n",
        "\n",
        "import os\n",
        "import numpy as np\n",
        "import matplotlib.pyplot as plt\n",
        "import matplotlib as mpl \n",
        "%matplotlib inline\n",
        "mpl.rc('axes', labelsize=14)\n",
        "mpl.rc('xtick', labelsize=12)\n",
        "mpl.rc('ytick', labelsize=12)\n",
        "\n",
        "PROJECT_ROOT_DIR = '.'\n",
        "PROJECT_ID = 'SVM'\n",
        "PROJECT_PATH = os.path.join(PROJECT_ROOT_DIR, PROJECT_ID)\n",
        "if not os.path.isdir(PROJECT_PATH):\n",
        "  os.makedirs(PROJECT_PATH)\n",
        "\n",
        "IMAGE_PATH = os.path.join(PROJECT_PATH, 'IMAGES')\n",
        "if not os.path.isdir(IMAGE_PATH):\n",
        "  os.makedirs(IMAGE_PATH)\n",
        "\n",
        "MODEL_PATH = os.path.join(PROJECT_PATH, 'MODELS')\n",
        "if not os.path.isdir(MODEL_PATH):\n",
        "  os.makedirs(MODEL_PATH)\n",
        "\n",
        "def save_fig(name, path=IMAGE_PATH, format='png', tight_layout=True, dpi=300):\n",
        "  if not os.path.isdir(path):\n",
        "    os.makedirs(path)\n",
        "  file_path=os.path.join(path, name+'.'+format)\n",
        "  if tight_layout:\n",
        "    plt.tight_layout()\n",
        "\n",
        "    \n",
        "  plt.savefig(file_path, dpi=dpi, format=format)\n",
        "\n",
        "import joblib\n",
        "def save_pkl(clf, model_name, path=MODEL_PATH):\n",
        "  model_path=os.path.join(path, model_name+'.pkl')\n",
        "  joblib.dump(clf, model_path)\n",
        "  print(f'{model_name} saved in {model_path}.')"
      ],
      "execution_count": 0,
      "outputs": []
    },
    {
      "cell_type": "markdown",
      "metadata": {
        "id": "9YE81E4um5S-",
        "colab_type": "text"
      },
      "source": [
        "# Linear Svm Classification"
      ]
    },
    {
      "cell_type": "code",
      "metadata": {
        "id": "arGBEKLGXYyh",
        "colab_type": "code",
        "outputId": "59ab526a-3330-4727-8f22-9aae45e4511c",
        "colab": {
          "base_uri": "https://localhost:8080/",
          "height": 1000
        }
      },
      "source": [
        "from sklearn.datasets import load_iris\n",
        "\n",
        "iris = load_iris()\n",
        "print(iris['DESCR'])"
      ],
      "execution_count": 3,
      "outputs": [
        {
          "output_type": "stream",
          "text": [
            ".. _iris_dataset:\n",
            "\n",
            "Iris plants dataset\n",
            "--------------------\n",
            "\n",
            "**Data Set Characteristics:**\n",
            "\n",
            "    :Number of Instances: 150 (50 in each of three classes)\n",
            "    :Number of Attributes: 4 numeric, predictive attributes and the class\n",
            "    :Attribute Information:\n",
            "        - sepal length in cm\n",
            "        - sepal width in cm\n",
            "        - petal length in cm\n",
            "        - petal width in cm\n",
            "        - class:\n",
            "                - Iris-Setosa\n",
            "                - Iris-Versicolour\n",
            "                - Iris-Virginica\n",
            "                \n",
            "    :Summary Statistics:\n",
            "\n",
            "    ============== ==== ==== ======= ===== ====================\n",
            "                    Min  Max   Mean    SD   Class Correlation\n",
            "    ============== ==== ==== ======= ===== ====================\n",
            "    sepal length:   4.3  7.9   5.84   0.83    0.7826\n",
            "    sepal width:    2.0  4.4   3.05   0.43   -0.4194\n",
            "    petal length:   1.0  6.9   3.76   1.76    0.9490  (high!)\n",
            "    petal width:    0.1  2.5   1.20   0.76    0.9565  (high!)\n",
            "    ============== ==== ==== ======= ===== ====================\n",
            "\n",
            "    :Missing Attribute Values: None\n",
            "    :Class Distribution: 33.3% for each of 3 classes.\n",
            "    :Creator: R.A. Fisher\n",
            "    :Donor: Michael Marshall (MARSHALL%PLU@io.arc.nasa.gov)\n",
            "    :Date: July, 1988\n",
            "\n",
            "The famous Iris database, first used by Sir R.A. Fisher. The dataset is taken\n",
            "from Fisher's paper. Note that it's the same as in R, but not as in the UCI\n",
            "Machine Learning Repository, which has two wrong data points.\n",
            "\n",
            "This is perhaps the best known database to be found in the\n",
            "pattern recognition literature.  Fisher's paper is a classic in the field and\n",
            "is referenced frequently to this day.  (See Duda & Hart, for example.)  The\n",
            "data set contains 3 classes of 50 instances each, where each class refers to a\n",
            "type of iris plant.  One class is linearly separable from the other 2; the\n",
            "latter are NOT linearly separable from each other.\n",
            "\n",
            ".. topic:: References\n",
            "\n",
            "   - Fisher, R.A. \"The use of multiple measurements in taxonomic problems\"\n",
            "     Annual Eugenics, 7, Part II, 179-188 (1936); also in \"Contributions to\n",
            "     Mathematical Statistics\" (John Wiley, NY, 1950).\n",
            "   - Duda, R.O., & Hart, P.E. (1973) Pattern Classification and Scene Analysis.\n",
            "     (Q327.D83) John Wiley & Sons.  ISBN 0-471-22361-1.  See page 218.\n",
            "   - Dasarathy, B.V. (1980) \"Nosing Around the Neighborhood: A New System\n",
            "     Structure and Classification Rule for Recognition in Partially Exposed\n",
            "     Environments\".  IEEE Transactions on Pattern Analysis and Machine\n",
            "     Intelligence, Vol. PAMI-2, No. 1, 67-71.\n",
            "   - Gates, G.W. (1972) \"The Reduced Nearest Neighbor Rule\".  IEEE Transactions\n",
            "     on Information Theory, May 1972, 431-433.\n",
            "   - See also: 1988 MLC Proceedings, 54-64.  Cheeseman et al\"s AUTOCLASS II\n",
            "     conceptual clustering system finds 3 classes in the data.\n",
            "   - Many, many more ...\n"
          ],
          "name": "stdout"
        }
      ]
    },
    {
      "cell_type": "code",
      "metadata": {
        "id": "AZi6EiZDnLCP",
        "colab_type": "code",
        "outputId": "334cb99e-bfa7-4c1b-bf07-fbdf2dbb6554",
        "colab": {
          "base_uri": "https://localhost:8080/",
          "height": 35
        }
      },
      "source": [
        "X = iris['data'][:, (2, 3)] #binary class: versicolor 1 or setosa 0\n",
        "y = iris['target']\n",
        "\n",
        "mask = (y!=2)\n",
        "X=X[mask]\n",
        "y=y[mask]\n",
        "\n",
        "X.shape, y.shape"
      ],
      "execution_count": 0,
      "outputs": [
        {
          "output_type": "execute_result",
          "data": {
            "text/plain": [
              "((100, 2), (100,))"
            ]
          },
          "metadata": {
            "tags": []
          },
          "execution_count": 9
        }
      ]
    },
    {
      "cell_type": "code",
      "metadata": {
        "id": "9C3pmeQ6obn_",
        "colab_type": "code",
        "outputId": "1ccc935b-ea5c-4ef8-e9b8-90d15d461595",
        "colab": {
          "base_uri": "https://localhost:8080/",
          "height": 441
        }
      },
      "source": [
        "plt.figure(figsize=(8, 6))\n",
        "plt.plot(X[y==1, 0], X[y==1, 1], 'g^', label='versicolor')\n",
        "plt.plot(X[y==0, 0], X[y==0, 1], 'bs', label='setosa')\n",
        "plt.axis([0, 5,0, 2])\n",
        "plt.legend(loc='upper left', fontsize=12)\n",
        "plt.xlabel('Petal length', fontsize=14)\n",
        "plt.ylabel('Petal width', fontsize=14)\n",
        "save_fig('two_class_svm')\n"
      ],
      "execution_count": 0,
      "outputs": [
        {
          "output_type": "display_data",
          "data": {
            "image/png": "[encoded data removed]",
            "text/plain": [
              "<Figure size 576x432 with 1 Axes>"
            ]
          },
          "metadata": {
            "tags": []
          }
        }
      ]
    },
    {
      "cell_type": "code",
      "metadata": {
        "id": "Kk1DlIVDpVu7",
        "colab_type": "code",
        "outputId": "d5f1a4f5-fb4b-409a-843a-63bbbc35d2c0",
        "colab": {
          "base_uri": "https://localhost:8080/",
          "height": 90
        }
      },
      "source": [
        "from sklearn.svm import SVC\n",
        "lin_svc= SVC(kernel='linear', C=float('inf'))\n",
        "lin_svc.fit(X, y)"
      ],
      "execution_count": 0,
      "outputs": [
        {
          "output_type": "execute_result",
          "data": {
            "text/plain": [
              "SVC(C=inf, cache_size=200, class_weight=None, coef0=0.0,\n",
              "    decision_function_shape='ovr', degree=3, gamma='auto_deprecated',\n",
              "    kernel='linear', max_iter=-1, probability=False, random_state=None,\n",
              "    shrinking=True, tol=0.001, verbose=False)"
            ]
          },
          "metadata": {
            "tags": []
          },
          "execution_count": 17
        }
      ]
    },
    {
      "cell_type": "code",
      "metadata": {
        "id": "-g2C5YAkq8wD",
        "colab_type": "code",
        "outputId": "6d440b3d-c118-42f3-a275-fd1dbc5ed95c",
        "colab": {
          "base_uri": "https://localhost:8080/",
          "height": 54
        }
      },
      "source": [
        "lin_svc.support_vectors_"
      ],
      "execution_count": 0,
      "outputs": [
        {
          "output_type": "execute_result",
          "data": {
            "text/plain": [
              "array([[1.9, 0.4],\n",
              "       [3. , 1.1]])"
            ]
          },
          "metadata": {
            "tags": []
          },
          "execution_count": 29
        }
      ]
    },
    {
      "cell_type": "code",
      "metadata": {
        "id": "h6tBuoJxpe84",
        "colab_type": "code",
        "outputId": "7e0687ff-31b8-441a-a837-5ae5ab46497b",
        "colab": {
          "base_uri": "https://localhost:8080/",
          "height": 441
        }
      },
      "source": [
        "def plot_svc_decision_boundary(svc_clf, xmin, xmax):\n",
        "  x0=np.linspace(xmin, xmax, 200)\n",
        "  w = svc_clf.coef_[0]\n",
        "  b = svc_clf.intercept_[0]\n",
        "\n",
        "  decision_boundary = -w[0]/w[1] * x0 - b/w[1]\n",
        "\n",
        "  margin = 1/w[1]\n",
        "  gutter_up = decision_boundary + margin\n",
        "  gutter_down = decision_boundary - margin\n",
        "\n",
        "  support_vc = svc_clf.support_vectors_\n",
        "  plt.scatter(support_vc[:, 0], support_vc[:, 1], s=180, facecolor='#00ffff')\n",
        "  plt.plot(x0, decision_boundary, 'k-', linewidth=3)\n",
        "  plt.plot(x0, gutter_up, 'k--', linewidth=1)\n",
        "  plt.plot(x0, gutter_down, 'k--', linewidth=1)\n",
        "\n",
        "plt.figure(figsize=(8, 6))\n",
        "plt.plot(X[y==1, 0], X[y==1, 1], 'g^', label='versicolor')\n",
        "plt.plot(X[y==0, 0], X[y==0, 1], 'bs', label='setosa')\n",
        "plt.axis([0, 5,0, 2])\n",
        "plt.legend(loc='upper left', fontsize=12)\n",
        "plt.xlabel('Petal length', fontsize=14)\n",
        "plt.ylabel('Petal width', fontsize=14)\n",
        "plot_svc_decision_boundary(lin_svc, 0, 5)\n",
        "save_fig('two_class_svm_decision_boundary')\n"
      ],
      "execution_count": 0,
      "outputs": [
        {
          "output_type": "display_data",
          "data": {
            "image/png": "[encoded data removed]",
            "text/plain": [
              "<Figure size 576x432 with 1 Axes>"
            ]
          },
          "metadata": {
            "tags": []
          }
        }
      ]
    },
    {
      "cell_type": "markdown",
      "metadata": {
        "id": "W_riXNH3wWWw",
        "colab_type": "text"
      },
      "source": [
        "when there are outliers in either side, it's not possible to be linearly seperable. In this case, we can reduce C to allow margin violations.\n",
        "\n",
        "On top of that, SVM is sensitive to feature scales in minimizing margins."
      ]
    },
    {
      "cell_type": "code",
      "metadata": {
        "id": "WAzzdttirp7B",
        "colab_type": "code",
        "colab": {}
      },
      "source": [
        "from sklearn.pipeline import Pipeline\n",
        "from sklearn.preprocessing import StandardScaler\n",
        "from sklearn.svm import LinearSVC"
      ],
      "execution_count": 0,
      "outputs": []
    },
    {
      "cell_type": "code",
      "metadata": {
        "id": "qwNi6DVztEAA",
        "colab_type": "code",
        "outputId": "b0908f29-106e-431e-f4c0-02701f7dcf45",
        "colab": {
          "base_uri": "https://localhost:8080/",
          "height": 199
        }
      },
      "source": [
        "svc_clf = Pipeline([\n",
        "                    ('scaler', StandardScaler()),\n",
        "                    ('lin_svc', LinearSVC(C=1, loss='hinge'))\n",
        "])\n",
        "\n",
        "svc_clf.fit(X, y)"
      ],
      "execution_count": 0,
      "outputs": [
        {
          "output_type": "execute_result",
          "data": {
            "text/plain": [
              "Pipeline(memory=None,\n",
              "         steps=[('scaler',\n",
              "                 StandardScaler(copy=True, with_mean=True, with_std=True)),\n",
              "                ('lin_svc',\n",
              "                 LinearSVC(C=1, class_weight=None, dual=True,\n",
              "                           fit_intercept=True, intercept_scaling=1,\n",
              "                           loss='hinge', max_iter=1000, multi_class='ovr',\n",
              "                           penalty='l2', random_state=None, tol=0.0001,\n",
              "                           verbose=0))],\n",
              "         verbose=False)"
            ]
          },
          "metadata": {
            "tags": []
          },
          "execution_count": 33
        }
      ]
    },
    {
      "cell_type": "code",
      "metadata": {
        "id": "mjtYeLtVtgFM",
        "colab_type": "code",
        "outputId": "1916a495-f2dc-4590-f1bf-e92a5587f5e1",
        "colab": {
          "base_uri": "https://localhost:8080/",
          "height": 35
        }
      },
      "source": [
        "svc_clf.predict([[5.5, 1]])"
      ],
      "execution_count": 0,
      "outputs": [
        {
          "output_type": "execute_result",
          "data": {
            "text/plain": [
              "array([1])"
            ]
          },
          "metadata": {
            "tags": []
          },
          "execution_count": 35
        }
      ]
    },
    {
      "cell_type": "markdown",
      "metadata": {
        "id": "19w4mSL_yTIs",
        "colab_type": "text"
      },
      "source": [
        "# Nonlinear SVM classification"
      ]
    },
    {
      "cell_type": "markdown",
      "metadata": {
        "id": "UGrPeke5yWCY",
        "colab_type": "text"
      },
      "source": [
        "for nonlinear svm classification, we can do:\n",
        "\n",
        "- provide polynomial features to increase data dimension\n",
        "- use svm kernel trick so we do not need to add extra features but increase dimensions internally: polynomial, rbf"
      ]
    },
    {
      "cell_type": "code",
      "metadata": {
        "id": "LdfejNdcyKwi",
        "colab_type": "code",
        "outputId": "ca9244c7-d973-4342-cca9-74704bbfd900",
        "colab": {
          "base_uri": "https://localhost:8080/",
          "height": 35
        }
      },
      "source": [
        "from sklearn.datasets import make_moons\n",
        "\n",
        "X, y = make_moons(n_samples=100, noise=0.15)\n",
        "X.shape"
      ],
      "execution_count": 4,
      "outputs": [
        {
          "output_type": "execute_result",
          "data": {
            "text/plain": [
              "(100, 2)"
            ]
          },
          "metadata": {
            "tags": []
          },
          "execution_count": 4
        }
      ]
    },
    {
      "cell_type": "code",
      "metadata": {
        "id": "f5zKHpwFy8Gk",
        "colab_type": "code",
        "outputId": "04a6ab0d-90c2-4d89-ae93-ebc923b565a4",
        "colab": {
          "base_uri": "https://localhost:8080/",
          "height": 305
        }
      },
      "source": [
        "plt.plot(X[y==1, 0], X[y==1, 1], 'bs', label='class1')\n",
        "plt.plot(X[y==0, 0], X[y==0, 1], 'rs', label='class0')\n",
        "plt.xlabel('X1')\n",
        "plt.ylabel('X2')\n",
        "plt.legend(loc='upper right', fontsize=12)"
      ],
      "execution_count": 0,
      "outputs": [
        {
          "output_type": "execute_result",
          "data": {
            "text/plain": [
              "<matplotlib.legend.Legend at 0x7fa0406c5320>"
            ]
          },
          "metadata": {
            "tags": []
          },
          "execution_count": 41
        },
        {
          "output_type": "display_data",
          "data": {
            "image/png": "[encoded data removed]",
            "text/plain": [
              "<Figure size 432x288 with 1 Axes>"
            ]
          },
          "metadata": {
            "tags": []
          }
        }
      ]
    },
    {
      "cell_type": "code",
      "metadata": {
        "id": "fZ9TFfxkzYMU",
        "colab_type": "code",
        "outputId": "7e199880-db68-4e6f-db49-899282d3a1bf",
        "colab": {
          "base_uri": "https://localhost:8080/",
          "height": 290
        }
      },
      "source": [
        "# add polynomial features then use linear svc\n",
        "from sklearn.preprocessing import PolynomialFeatures\n",
        "\n",
        "poly_svc = Pipeline([\n",
        "                     ('poly_features', PolynomialFeatures(degree=3)),\n",
        "                     ('scaler', StandardScaler()),\n",
        "                     ('lin_svc', LinearSVC(C=10, loss='hinge'))\n",
        "])\n",
        "poly_svc.fit(X, y)"
      ],
      "execution_count": 0,
      "outputs": [
        {
          "output_type": "stream",
          "text": [
            "/usr/local/lib/python3.6/dist-packages/sklearn/svm/base.py:929: ConvergenceWarning: Liblinear failed to converge, increase the number of iterations.\n",
            "  \"the number of iterations.\", ConvergenceWarning)\n"
          ],
          "name": "stderr"
        },
        {
          "output_type": "execute_result",
          "data": {
            "text/plain": [
              "Pipeline(memory=None,\n",
              "         steps=[('poly_features',\n",
              "                 PolynomialFeatures(degree=3, include_bias=True,\n",
              "                                    interaction_only=False, order='C')),\n",
              "                ('scaler',\n",
              "                 StandardScaler(copy=True, with_mean=True, with_std=True)),\n",
              "                ('lin_svc',\n",
              "                 LinearSVC(C=10, class_weight=None, dual=True,\n",
              "                           fit_intercept=True, intercept_scaling=1,\n",
              "                           loss='hinge', max_iter=1000, multi_class='ovr',\n",
              "                           penalty='l2', random_state=None, tol=0.0001,\n",
              "                           verbose=0))],\n",
              "         verbose=False)"
            ]
          },
          "metadata": {
            "tags": []
          },
          "execution_count": 43
        }
      ]
    },
    {
      "cell_type": "code",
      "metadata": {
        "id": "kRxZQ4tn0GJt",
        "colab_type": "code",
        "outputId": "724d44d3-8d9f-4aa9-b947-355209ae77fb",
        "colab": {
          "base_uri": "https://localhost:8080/",
          "height": 291
        }
      },
      "source": [
        "def plot_predictions(clf, axes):\n",
        "  x0s = np.linspace(axes[0], axes[1], 100)\n",
        "  x1s = np.linspace(axes[2], axes[3], 100)\n",
        "  x0, x1 = np.meshgrid(x0s, x1s)\n",
        "  X = np.c_[x0.ravel(), x1.ravel()]\n",
        "  y_preds = clf.predict(X).reshape(x0.shape)\n",
        "  plt.contourf(x0, x1, y_preds, cmap=plt.cm.brg, alpha=0.2)\n",
        "\n",
        "plt.plot(X[y==1, 0], X[y==1, 1], 'bs', label='class1')\n",
        "plt.plot(X[y==0, 0], X[y==0, 1], 'rs', label='class0')\n",
        "plt.xlabel('X1')\n",
        "plt.ylabel('X2')\n",
        "plt.legend(loc='upper right', fontsize=12)\n",
        "plot_predictions(poly_svc, [-1.5, 2.5, -0.75, 1.25])"
      ],
      "execution_count": 0,
      "outputs": [
        {
          "output_type": "display_data",
          "data": {
            "image/png": "[encoded data removed]",
            "text/plain": [
              "<Figure size 432x288 with 1 Axes>"
            ]
          },
          "metadata": {
            "tags": []
          }
        }
      ]
    },
    {
      "cell_type": "code",
      "metadata": {
        "id": "Qngjzkf72ANZ",
        "colab_type": "code",
        "outputId": "49591801-ddab-488c-d55a-f55464cb6049",
        "colab": {
          "base_uri": "https://localhost:8080/",
          "height": 199
        }
      },
      "source": [
        "# try polynomial kenel\n",
        "\n",
        "poly_kernel_svm_clf = Pipeline([\n",
        "                                ('scaler', StandardScaler()),\n",
        "                                ('poly_kernel_clf', SVC(kernel='poly', degree=3, coef0=1, C=5))\n",
        "                                \n",
        "])\n",
        "\n",
        "poly_kernel_svm_clf.fit(X, y)"
      ],
      "execution_count": 0,
      "outputs": [
        {
          "output_type": "execute_result",
          "data": {
            "text/plain": [
              "Pipeline(memory=None,\n",
              "         steps=[('scaler',\n",
              "                 StandardScaler(copy=True, with_mean=True, with_std=True)),\n",
              "                ('poly_kernel_clf',\n",
              "                 SVC(C=5, cache_size=200, class_weight=None, coef0=1,\n",
              "                     decision_function_shape='ovr', degree=3,\n",
              "                     gamma='auto_deprecated', kernel='poly', max_iter=-1,\n",
              "                     probability=False, random_state=None, shrinking=True,\n",
              "                     tol=0.001, verbose=False))],\n",
              "         verbose=False)"
            ]
          },
          "metadata": {
            "tags": []
          },
          "execution_count": 49
        }
      ]
    },
    {
      "cell_type": "code",
      "metadata": {
        "id": "aDE_VPDQ4x_k",
        "colab_type": "code",
        "outputId": "06295d16-6a47-4a85-a631-3565f32d4779",
        "colab": {
          "base_uri": "https://localhost:8080/",
          "height": 322
        }
      },
      "source": [
        "plt.plot(X[y==1, 0], X[y==1, 1], 'bs', label='class1')\n",
        "plt.plot(X[y==0, 0], X[y==0, 1], 'rs', label='class0')\n",
        "plt.xlabel('X1')\n",
        "plt.ylabel('X2')\n",
        "plt.legend(loc='upper right', fontsize=12)\n",
        "plot_predictions(poly_kernel_svm_clf, [-1.5, 2.5, -0.75, 1.25])\n",
        "plt.title(r'$d=3, r=1, C=5$')"
      ],
      "execution_count": 0,
      "outputs": [
        {
          "output_type": "execute_result",
          "data": {
            "text/plain": [
              "Text(0.5, 1.0, '$d=3, r=1, C=5$')"
            ]
          },
          "metadata": {
            "tags": []
          },
          "execution_count": 54
        },
        {
          "output_type": "display_data",
          "data": {
            "image/png": "[encoded data removed]",
            "text/plain": [
              "<Figure size 432x288 with 1 Axes>"
            ]
          },
          "metadata": {
            "tags": []
          }
        }
      ]
    },
    {
      "cell_type": "code",
      "metadata": {
        "id": "uEBVHppw4-Qh",
        "colab_type": "code",
        "outputId": "3474410f-e4ce-4bfa-9418-2b6fb64f4975",
        "colab": {
          "base_uri": "https://localhost:8080/",
          "height": 199
        }
      },
      "source": [
        "# try polynomial kenel\n",
        "\n",
        "poly_kernel_svm_clf = Pipeline([\n",
        "                                ('scaler', StandardScaler()),\n",
        "                                ('poly_kernel_clf', SVC(kernel='poly', degree=10, coef0=100, C=5))\n",
        "                                \n",
        "])\n",
        "\n",
        "poly_kernel_svm_clf.fit(X, y)"
      ],
      "execution_count": 0,
      "outputs": [
        {
          "output_type": "execute_result",
          "data": {
            "text/plain": [
              "Pipeline(memory=None,\n",
              "         steps=[('scaler',\n",
              "                 StandardScaler(copy=True, with_mean=True, with_std=True)),\n",
              "                ('poly_kernel_clf',\n",
              "                 SVC(C=5, cache_size=200, class_weight=None, coef0=100,\n",
              "                     decision_function_shape='ovr', degree=10,\n",
              "                     gamma='auto_deprecated', kernel='poly', max_iter=-1,\n",
              "                     probability=False, random_state=None, shrinking=True,\n",
              "                     tol=0.001, verbose=False))],\n",
              "         verbose=False)"
            ]
          },
          "metadata": {
            "tags": []
          },
          "execution_count": 55
        }
      ]
    },
    {
      "cell_type": "code",
      "metadata": {
        "id": "lmNIGMtQ7Avb",
        "colab_type": "code",
        "outputId": "398a580a-088d-495e-a71f-937464e1e9c6",
        "colab": {
          "base_uri": "https://localhost:8080/",
          "height": 322
        }
      },
      "source": [
        "plt.plot(X[y==1, 0], X[y==1, 1], 'bs', label='class1')\n",
        "plt.plot(X[y==0, 0], X[y==0, 1], 'rs', label='class0')\n",
        "plt.xlabel('X1')\n",
        "plt.ylabel('X2')\n",
        "plt.legend(loc='upper right', fontsize=12)\n",
        "plot_predictions(poly_kernel_svm_clf, [-1.5, 2.5, -0.75, 1.25])\n",
        "plt.title(r'$d=10, r=100, C=5$')"
      ],
      "execution_count": 0,
      "outputs": [
        {
          "output_type": "execute_result",
          "data": {
            "text/plain": [
              "Text(0.5, 1.0, '$d=10, r=100, C=5$')"
            ]
          },
          "metadata": {
            "tags": []
          },
          "execution_count": 56
        },
        {
          "output_type": "display_data",
          "data": {
            "image/png": "[encoded data removed]",
            "text/plain": [
              "<Figure size 432x288 with 1 Axes>"
            ]
          },
          "metadata": {
            "tags": []
          }
        }
      ]
    },
    {
      "cell_type": "code",
      "metadata": {
        "id": "mC-Sh1tb7Egq",
        "colab_type": "code",
        "outputId": "91268822-2cd7-4470-fcc2-f4ab0cb24c4a",
        "colab": {
          "base_uri": "https://localhost:8080/",
          "height": 199
        }
      },
      "source": [
        "# using rbf\n",
        "# try polynomial kenel\n",
        "\n",
        "rbf_kernel_svm_clf = Pipeline([\n",
        "                                ('scaler', StandardScaler()),\n",
        "                                ('rbf_kernel_clf', SVC(kernel='rbf', gamma=5, C=0.0001))\n",
        "                                \n",
        "])\n",
        "\n",
        "rbf_kernel_svm_clf.fit(X, y)\n"
      ],
      "execution_count": 0,
      "outputs": [
        {
          "output_type": "execute_result",
          "data": {
            "text/plain": [
              "Pipeline(memory=None,\n",
              "         steps=[('scaler',\n",
              "                 StandardScaler(copy=True, with_mean=True, with_std=True)),\n",
              "                ('rbf_kernel_clf',\n",
              "                 SVC(C=0.0001, cache_size=200, class_weight=None, coef0=0.0,\n",
              "                     decision_function_shape='ovr', degree=3, gamma=5,\n",
              "                     kernel='rbf', max_iter=-1, probability=False,\n",
              "                     random_state=None, shrinking=True, tol=0.001,\n",
              "                     verbose=False))],\n",
              "         verbose=False)"
            ]
          },
          "metadata": {
            "tags": []
          },
          "execution_count": 57
        }
      ]
    },
    {
      "cell_type": "code",
      "metadata": {
        "id": "MfsBAapN7Xmh",
        "colab_type": "code",
        "outputId": "7efeedf0-d3c2-4550-a15b-971b17f23cb6",
        "colab": {
          "base_uri": "https://localhost:8080/",
          "height": 321
        }
      },
      "source": [
        "\n",
        "plt.plot(X[y==1, 0], X[y==1, 1], 'bs', label='class1')\n",
        "plt.plot(X[y==0, 0], X[y==0, 1], 'rs', label='class0')\n",
        "plt.xlabel('X1')\n",
        "plt.ylabel('X2')\n",
        "plt.legend(loc='upper right', fontsize=12)\n",
        "plot_predictions(rbf_kernel_svm_clf, [-1.5, 2.5, -0.75, 1.25])\n",
        "plt.title(r'$\\gamma=5, C=0.0001$')"
      ],
      "execution_count": 0,
      "outputs": [
        {
          "output_type": "execute_result",
          "data": {
            "text/plain": [
              "Text(0.5, 1.0, '$\\\\gamma=5, C=0.0001$')"
            ]
          },
          "metadata": {
            "tags": []
          },
          "execution_count": 58
        },
        {
          "output_type": "display_data",
          "data": {
            "image/png": "[encoded data removed]",
            "text/plain": [
              "<Figure size 432x288 with 1 Axes>"
            ]
          },
          "metadata": {
            "tags": []
          }
        }
      ]
    },
    {
      "cell_type": "markdown",
      "metadata": {
        "id": "i8ntd5nthuuY",
        "colab_type": "text"
      },
      "source": [
        "# SVM Regression"
      ]
    },
    {
      "cell_type": "code",
      "metadata": {
        "id": "RaN6GQ1T7djZ",
        "colab_type": "code",
        "colab": {}
      },
      "source": [
        "np.random.seed(42)\n",
        "X = np.random.rand(100, 1)\n",
        "y = 4 + 2*X+1.5 + np.random.randn(100, 1)"
      ],
      "execution_count": 0,
      "outputs": []
    },
    {
      "cell_type": "code",
      "metadata": {
        "id": "G5VpkLJcb_jh",
        "colab_type": "code",
        "colab": {
          "base_uri": "https://localhost:8080/",
          "height": 309
        },
        "outputId": "13e87f9e-6b29-4390-9d9b-d72850395b74"
      },
      "source": [
        "plt.plot(X, y, 'bo')\n",
        "plt.axis([0, 1.1, 4, 10])\n",
        "plt.xlabel('X1')\n",
        "plt.ylabel('y')"
      ],
      "execution_count": 25,
      "outputs": [
        {
          "output_type": "execute_result",
          "data": {
            "text/plain": [
              "Text(0, 0.5, 'y')"
            ]
          },
          "metadata": {
            "tags": []
          },
          "execution_count": 25
        },
        {
          "output_type": "display_data",
          "data": {
            "image/png": "[encoded data removed]",
            "text/plain": [
              "<Figure size 432x288 with 1 Axes>"
            ]
          },
          "metadata": {
            "tags": []
          }
        }
      ]
    },
    {
      "cell_type": "code",
      "metadata": {
        "id": "vROp_KILiUKI",
        "colab_type": "code",
        "colab": {
          "base_uri": "https://localhost:8080/",
          "height": 128
        },
        "outputId": "ed927e29-b62f-44a7-fe6a-5f863ed275f1"
      },
      "source": [
        "from sklearn.svm import LinearSVR\n",
        "lin_svr = LinearSVR(epsilon=1.5)\n",
        "lin_svr.fit(X, y)"
      ],
      "execution_count": 27,
      "outputs": [
        {
          "output_type": "stream",
          "text": [
            "/usr/local/lib/python3.6/dist-packages/sklearn/utils/validation.py:724: DataConversionWarning: A column-vector y was passed when a 1d array was expected. Please change the shape of y to (n_samples, ), for example using ravel().\n",
            "  y = column_or_1d(y, warn=True)\n"
          ],
          "name": "stderr"
        },
        {
          "output_type": "execute_result",
          "data": {
            "text/plain": [
              "LinearSVR(C=1.0, dual=True, epsilon=1.5, fit_intercept=True,\n",
              "          intercept_scaling=1.0, loss='epsilon_insensitive', max_iter=1000,\n",
              "          random_state=None, tol=0.0001, verbose=0)"
            ]
          },
          "metadata": {
            "tags": []
          },
          "execution_count": 27
        }
      ]
    },
    {
      "cell_type": "code",
      "metadata": {
        "id": "-H6ZG28Si0T7",
        "colab_type": "code",
        "colab": {
          "base_uri": "https://localhost:8080/",
          "height": 309
        },
        "outputId": "0286ed03-32b9-493a-bc49-d40f30b3f306"
      },
      "source": [
        "X_new = np.linspace(0, 1, 100).reshape(-1, 1)\n",
        "preds = lin_svr.predict(X_new)\n",
        "\n",
        "\n",
        "plt.plot(X, y, 'bo')\n",
        "plt.axis([0, 1.1, 4, 10])\n",
        "plt.xlabel('X1')\n",
        "plt.ylabel('y')\n",
        "plt.plot(X_new, preds, 'k-', linewidth=2)\n",
        "#plt.plot(X_new, upper, 'k--', linewidth=1)\n",
        "#plt.plot(X_new, lower, 'k--', linewidth=1)"
      ],
      "execution_count": 38,
      "outputs": [
        {
          "output_type": "execute_result",
          "data": {
            "text/plain": [
              "[<matplotlib.lines.Line2D at 0x7fec21c8c3c8>]"
            ]
          },
          "metadata": {
            "tags": []
          },
          "execution_count": 38
        },
        {
          "output_type": "display_data",
          "data": {
            "image/png": "[encoded data removed]",
            "text/plain": [
              "<Figure size 432x288 with 1 Axes>"
            ]
          },
          "metadata": {
            "tags": []
          }
        }
      ]
    },
    {
      "cell_type": "code",
      "metadata": {
        "id": "F2ikPHWOkL22",
        "colab_type": "code",
        "colab": {
          "base_uri": "https://localhost:8080/",
          "height": 286
        },
        "outputId": "9ce1efaf-43d6-47a2-8280-6faa568c2ca9"
      },
      "source": [
        "X = 3*np.random.rand(100, 1)-3\n",
        "y = (0.2 + 0.5*(X**2) + (0.1*X) + np.random.randn(100, 1)/10).ravel()\n",
        "plt.plot(X, y, 'bo')"
      ],
      "execution_count": 48,
      "outputs": [
        {
          "output_type": "execute_result",
          "data": {
            "text/plain": [
              "<matplotlib.collections.PathCollection at 0x7fec21912518>"
            ]
          },
          "metadata": {
            "tags": []
          },
          "execution_count": 48
        },
        {
          "output_type": "display_data",
          "data": {
            "image/png": "[encoded data removed]",
            "text/plain": [
              "<Figure size 432x288 with 1 Axes>"
            ]
          },
          "metadata": {
            "tags": []
          }
        }
      ]
    },
    {
      "cell_type": "code",
      "metadata": {
        "id": "A3l5iMnMmdpH",
        "colab_type": "code",
        "colab": {
          "base_uri": "https://localhost:8080/",
          "height": 163
        },
        "outputId": "e8b26f5b-db8e-48c0-87ce-4caeaf99df44"
      },
      "source": [
        "from sklearn.svm import SVR\n",
        "\n",
        "svr_pipeline = Pipeline([\n",
        "                         ('scaler', StandardScaler()),\n",
        "                         ('svr_poly', SVR(kernel='poly', degree=2, C=100, epsilon=0.1))\n",
        "])\n",
        "svr_pipeline.fit(X, y)"
      ],
      "execution_count": 50,
      "outputs": [
        {
          "output_type": "execute_result",
          "data": {
            "text/plain": [
              "Pipeline(memory=None,\n",
              "         steps=[('scaler',\n",
              "                 StandardScaler(copy=True, with_mean=True, with_std=True)),\n",
              "                ('svr_poly',\n",
              "                 SVR(C=100, cache_size=200, coef0=0.0, degree=2, epsilon=0.1,\n",
              "                     gamma='auto_deprecated', kernel='poly', max_iter=-1,\n",
              "                     shrinking=True, tol=0.001, verbose=False))],\n",
              "         verbose=False)"
            ]
          },
          "metadata": {
            "tags": []
          },
          "execution_count": 50
        }
      ]
    },
    {
      "cell_type": "code",
      "metadata": {
        "id": "UEQ1e7fon-iL",
        "colab_type": "code",
        "colab": {
          "base_uri": "https://localhost:8080/",
          "height": 35
        },
        "outputId": "908c0b9c-7bc8-4cb0-a2c4-eb00b40362d6"
      },
      "source": [
        "svr_pipeline.predict([[-0.5]])"
      ],
      "execution_count": 52,
      "outputs": [
        {
          "output_type": "execute_result",
          "data": {
            "text/plain": [
              "array([1.94444826])"
            ]
          },
          "metadata": {
            "tags": []
          },
          "execution_count": 52
        }
      ]
    },
    {
      "cell_type": "code",
      "metadata": {
        "id": "YLMz1yE9pTUU",
        "colab_type": "code",
        "colab": {}
      },
      "source": [
        ""
      ],
      "execution_count": 0,
      "outputs": []
    }
  ]
}